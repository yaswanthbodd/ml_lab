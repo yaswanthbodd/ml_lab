{
 "cells": [
  {
   "cell_type": "code",
   "execution_count": 1,
   "id": "94eea458",
   "metadata": {},
   "outputs": [],
   "source": [
    "import numpy as np\n",
    "from numpy.linalg import eigh, norm"
   ]
  },
  {
   "cell_type": "code",
   "execution_count": 2,
   "id": "93bb6f34",
   "metadata": {},
   "outputs": [],
   "source": [
    "# Define your input matrix A (3x3)"
   ]
  },
  {
   "cell_type": "code",
   "execution_count": 3,
   "id": "40bcfb2c",
   "metadata": {},
   "outputs": [],
   "source": [
    "A = np.array([[1, 0, 2],\n",
    "              [0, 1, 3],\n",
    "              [-1, 1, 4]])"
   ]
  },
  {
   "cell_type": "code",
   "execution_count": 4,
   "id": "ec6ce9f2",
   "metadata": {},
   "outputs": [
    {
     "data": {
      "text/plain": [
       "array([[ 1,  0,  2],\n",
       "       [ 0,  1,  3],\n",
       "       [-1,  1,  4]])"
      ]
     },
     "execution_count": 4,
     "metadata": {},
     "output_type": "execute_result"
    }
   ],
   "source": [
    "A"
   ]
  },
  {
   "cell_type": "code",
   "execution_count": 5,
   "id": "239c2dd7",
   "metadata": {},
   "outputs": [],
   "source": [
    "# Step 1: Calculate A^T * A"
   ]
  },
  {
   "cell_type": "code",
   "execution_count": 6,
   "id": "c30ba27d",
   "metadata": {},
   "outputs": [],
   "source": [
    "ATA = A.T.dot(A)\n"
   ]
  },
  {
   "cell_type": "code",
   "execution_count": 7,
   "id": "508a8fb1",
   "metadata": {},
   "outputs": [
    {
     "data": {
      "text/plain": [
       "array([[ 2, -1, -2],\n",
       "       [-1,  2,  7],\n",
       "       [-2,  7, 29]])"
      ]
     },
     "execution_count": 7,
     "metadata": {},
     "output_type": "execute_result"
    }
   ],
   "source": [
    "ATA "
   ]
  },
  {
   "cell_type": "code",
   "execution_count": 10,
   "id": "1f0001d4",
   "metadata": {},
   "outputs": [],
   "source": [
    "# Step 2: Calculate the eigenvalues and eigenvectors of ATA using eigh\n"
   ]
  },
  {
   "cell_type": "code",
   "execution_count": 11,
   "id": "8d73707f",
   "metadata": {},
   "outputs": [],
   "source": [
    "eigenvalues_ATA, eigenvectors_ATA = eigh(ATA)"
   ]
  },
  {
   "cell_type": "code",
   "execution_count": 12,
   "id": "14859b43",
   "metadata": {},
   "outputs": [
    {
     "data": {
      "text/plain": [
       "(array([ 0.14714054,  1.98130664, 30.87155282]),\n",
       " array([[-0.28133295,  0.95665031, -0.07531243],\n",
       "        [-0.93684388, -0.2568173 ,  0.23742036],\n",
       "        [ 0.20778673,  0.13735015,  0.96848315]]))"
      ]
     },
     "execution_count": 12,
     "metadata": {},
     "output_type": "execute_result"
    }
   ],
   "source": [
    "eigenvalues_ATA, eigenvectors_ATA"
   ]
  },
  {
   "cell_type": "code",
   "execution_count": 14,
   "id": "467921ec",
   "metadata": {},
   "outputs": [],
   "source": [
    "# Step 3: Sort eigenvalues and eigenvectors in descending order\n"
   ]
  },
  {
   "cell_type": "code",
   "execution_count": 13,
   "id": "cde28187",
   "metadata": {},
   "outputs": [],
   "source": [
    "sorted_indices = np.argsort(eigenvalues_ATA)[::-1]\n",
    "eigenvalues_ATA = eigenvalues_ATA[sorted_indices]\n",
    "eigenvectors_ATA = eigenvectors_ATA[:, sorted_indices]"
   ]
  },
  {
   "cell_type": "code",
   "execution_count": null,
   "id": "0911e731",
   "metadata": {},
   "outputs": [],
   "source": [
    "# Step 4: Calculate singular values from the square root of eigenvalues\n"
   ]
  },
  {
   "cell_type": "code",
   "execution_count": 15,
   "id": "56996c50",
   "metadata": {},
   "outputs": [],
   "source": [
    "singular_values = np.sqrt(eigenvalues_ATA)"
   ]
  },
  {
   "cell_type": "code",
   "execution_count": 16,
   "id": "44cdfeaf",
   "metadata": {},
   "outputs": [
    {
     "data": {
      "text/plain": [
       "array([5.55621749, 1.40758895, 0.38358902])"
      ]
     },
     "execution_count": 16,
     "metadata": {},
     "output_type": "execute_result"
    }
   ],
   "source": [
    "singular_values"
   ]
  },
  {
   "cell_type": "code",
   "execution_count": null,
   "id": "387b4c84",
   "metadata": {},
   "outputs": [],
   "source": [
    "# Step 5: Create the diagonal matrix S (3x3)\n"
   ]
  },
  {
   "cell_type": "code",
   "execution_count": 28,
   "id": "0a5a5153",
   "metadata": {},
   "outputs": [],
   "source": [
    "S = np.zeros_like(A, dtype=float)\n",
    "S[:A.shape[0], :A.shape[1]] = np.diag(singular_values)"
   ]
  },
  {
   "cell_type": "code",
   "execution_count": 30,
   "id": "3842d196",
   "metadata": {},
   "outputs": [
    {
     "data": {
      "text/plain": [
       "array([[5.55621749, 0.        , 0.        ],\n",
       "       [0.        , 1.40758895, 0.        ],\n",
       "       [0.        , 0.        , 0.38358902]])"
      ]
     },
     "execution_count": 30,
     "metadata": {},
     "output_type": "execute_result"
    }
   ],
   "source": [
    "S[:A.shape[0], :A.shape[1]]"
   ]
  },
  {
   "cell_type": "code",
   "execution_count": 19,
   "id": "51ca0e5c",
   "metadata": {},
   "outputs": [],
   "source": [
    "# Step 6: Calculate U from A and the eigenvectors of ATA\n"
   ]
  },
  {
   "cell_type": "code",
   "execution_count": 20,
   "id": "521fdf52",
   "metadata": {},
   "outputs": [],
   "source": [
    "U = A.dot(eigenvectors_ATA)"
   ]
  },
  {
   "cell_type": "code",
   "execution_count": 22,
   "id": "204d38e5",
   "metadata": {},
   "outputs": [],
   "source": [
    "# Normalize U to make it an orthonormal matrix\n"
   ]
  },
  {
   "cell_type": "code",
   "execution_count": 23,
   "id": "29347340",
   "metadata": {},
   "outputs": [],
   "source": [
    "U /= norm(U, axis=0)"
   ]
  },
  {
   "cell_type": "code",
   "execution_count": 24,
   "id": "b57df6b5",
   "metadata": {},
   "outputs": [],
   "source": [
    "# Step 7: Calculate Vt (transpose of V) from the eigenvectors of ATA\n"
   ]
  },
  {
   "cell_type": "code",
   "execution_count": 25,
   "id": "c0db46e6",
   "metadata": {},
   "outputs": [],
   "source": [
    "Vt = eigenvectors_ATA.T\n",
    "\n"
   ]
  },
  {
   "cell_type": "code",
   "execution_count": 26,
   "id": "0f3a98d6",
   "metadata": {},
   "outputs": [],
   "source": [
    "# Print the matrices U, S, and Vt\n"
   ]
  },
  {
   "cell_type": "code",
   "execution_count": 27,
   "id": "f69923e7",
   "metadata": {},
   "outputs": [
    {
     "name": "stdout",
     "output_type": "stream",
     "text": [
      "Matrix U (3x3):\n",
      "[[ 0.33505778  0.87479418  0.34995918]\n",
      " [ 0.56564917  0.11028302 -0.81723844]\n",
      " [ 0.75350999 -0.47177622  0.45787542]]\n",
      "\n",
      "Matrix S (3x3):\n",
      "[[5.55621749 0.         0.        ]\n",
      " [0.         1.40758895 0.        ]\n",
      " [0.         0.         0.38358902]]\n",
      "\n",
      "Matrix Vt (3x3):\n",
      "[[-0.07531243  0.23742036  0.96848315]\n",
      " [ 0.95665031 -0.2568173   0.13735015]\n",
      " [-0.28133295 -0.93684388  0.20778673]]\n"
     ]
    }
   ],
   "source": [
    "print(\"Matrix U (3x3):\")\n",
    "print(U)\n",
    "print(\"\\nMatrix S (3x3):\")\n",
    "print(S)\n",
    "print(\"\\nMatrix Vt (3x3):\")\n",
    "print(Vt)"
   ]
  },
  {
   "cell_type": "code",
   "execution_count": null,
   "id": "40503cb5",
   "metadata": {},
   "outputs": [],
   "source": []
  }
 ],
 "metadata": {
  "kernelspec": {
   "display_name": "Python 3 (ipykernel)",
   "language": "python",
   "name": "python3"
  },
  "language_info": {
   "codemirror_mode": {
    "name": "ipython",
    "version": 3
   },
   "file_extension": ".py",
   "mimetype": "text/x-python",
   "name": "python",
   "nbconvert_exporter": "python",
   "pygments_lexer": "ipython3",
   "version": "3.9.13"
  }
 },
 "nbformat": 4,
 "nbformat_minor": 5
}
